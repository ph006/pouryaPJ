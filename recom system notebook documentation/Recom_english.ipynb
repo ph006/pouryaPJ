{
 "cells": [
  {
   "cell_type": "markdown",
   "id": "931111b7",
   "metadata": {},
   "source": [
    "# Recommendation system using NLP (English resume)\n",
    "This documentation was entirely written in English for other presentation purposes!!!\n",
    "\n",
    "Note: (با سلام استاد امینی، من به همراه این فایل یک یا چند فایل صوتی هم ارسال می‌کنم که هر قسمت را به صورت جداگانه توضیح می‌دهم)"
   ]
  },
  {
   "cell_type": "markdown",
   "id": "da94194f",
   "metadata": {},
   "source": [
    "# Imports"
   ]
  },
  {
   "cell_type": "code",
   "execution_count": 1,
   "id": "948532af",
   "metadata": {},
   "outputs": [],
   "source": [
    "import pandas as pd\n",
    "import numpy as np\n",
    "import re\n",
    "from nltk.stem import PorterStemmer\n",
    "from sklearn.feature_extraction.text import TfidfVectorizer\n",
    "from sklearn.metrics.pairwise import cosine_similarity\n",
    "from sklearn.feature_extraction.text import CountVectorizer\n",
    "from gensim.models import Word2Vec\n",
    "from nltk.tokenize import word_tokenize\n"
   ]
  },
  {
   "cell_type": "markdown",
   "id": "a6d5b64c",
   "metadata": {},
   "source": [
    "# Dataset imports\n",
    "In addition to the main dataset (pii_dataset) we need to import Persian stop words as well. (stop words contain words that have 0 weight. in other words, we need to remove them since they do not have any actual value or meaning. In this case I used NLTK stop words in addition to my previous method (using CountVectorizer to sum up the most used words in the document and adding them to the  stop words list)"
   ]
  },
  {
   "cell_type": "code",
   "execution_count": 2,
   "id": "b4dc7543",
   "metadata": {},
   "outputs": [],
   "source": [
    "df = pd.read_csv('pii_dataset.csv')\n",
    "stop_words = pd.read_csv('eng_stp_words')\n",
    "\n",
    "# We need to convert it into a list for better compatibility with re library\n",
    "\n",
    "stop_words_list = stop_words['words'].tolist()\n",
    "\n",
    "df['text'] = df['text'].fillna('')\n",
    "\n",
    "df = df.astype(str)\n",
    "\n",
    "\n",
    "pd.set_option('display.max_colwidth', None)"
   ]
  },
  {
   "cell_type": "code",
   "execution_count": 3,
   "id": "1abd5cda",
   "metadata": {},
   "outputs": [
    {
     "data": {
      "text/plain": [
       "0    My name is Aaliyah Popova, and I am a jeweler with 13 years of experience. I remember a very unique and challenging project I had to work on last year. A customer approached me with a precious family heirloom - a diamond necklace that had been passed down through generations. Unfortunately, the necklace was in poor condition, with several loose diamonds and a broken clasp. The customer wanted me to restore it to its former glory, but it was clear that this would be no ordinary repair. Using my specialized tools and techniques, I began the delicate task of dismantling the necklace. Each diamond was carefully removed from its setting, and the damaged clasp was removed. Once the necklace was completely disassembled, I meticulously cleaned each diamond and inspected it for any damage. Fortunately, the diamonds were all in good condition, with no cracks or chips. The next step was to repair the broken clasp. I carefully soldered the broken pieces back together, ensuring that the clasp was sturdy and secure. Once the clasp was repaired, I began the process of reassembling the necklace. Each diamond was carefully placed back into its setting, and the necklace was polished until it sparkled like new. When I presented the restored necklace to the customer, they were overjoyed. They couldn't believe that I had been able to bring their family heirloom back to life. The necklace looked as beautiful as it had when it was first created, and the customer was thrilled to have it back in their possession. If you have a project that you would like to discuss, please feel free to contact me by phone at (95) 94215-7906 or by email at aaliyah.popova4783@aol.edu. I look forward to hearing from you! P.S.: When I'm not creating beautiful jewelry, I enjoy spending time podcasting. I love sharing my knowledge about jewelry and connecting with other people who are passionate about this art form. I also enjoy spending time with my family and exploring new places. If you would like to learn more about me, please feel free to visit my website at [website address] or visit me at my studio located at 97 Lincoln Street.\n",
       "1                                                                                                                                                                                                                                                                                                                                                                                                                                                                                                                                                                                                                                                                My name is Konstantin Becker, and I'm a developer with two years of experience. I recently worked on a project where we built a new customer portal for our company. The goal was to create a more user-friendly and intuitive interface that would make it easier for customers to manage their accounts and access information. We started by gathering requirements from our customers and conducting user research to understand their needs and pain points. We then designed a new user interface that was both visually appealing and easy to use. We also implemented a number of new features, such as the ability for customers to view their account history, track their orders, and submit support tickets online. The project was a success, and our customers were very happy with the new portal. They found it to be much easier to use than the old one, and they appreciated the new features. We saw a significant increase in customer satisfaction and engagement as a result of the new portal. Throughout the project, I was responsible for developing the back-end code for the portal. I also worked closely with the design team to ensure that the portal was visually appealing and user-friendly. I'm proud of the work that I did on this project, and I'm confident that it will continue to benefit our customers for years to come. If you would like to contact me, my email address is konstantin.becker@gmail.com and my phone number is 0475 4429797. I live at 826 Webster Street. Quilting is my hobby.\n",
       "2                                                                                                                                                                                                                                                                                                                                 As Mieko Mitsubishi, an account manager at a prominent software company, I encountered a unique challenge that required my utmost dedication and expertise to solve. The issue arose when one of our valued clients, a leading multinational corporation, reported inconsistencies in their data analytics platform. The discrepancies were affecting their decision-making processes and causing uncertainty within their operations. With a sense of urgency, I delved into the intricacies of the problem, carefully examining the data sets, algorithms, and underlying infrastructure. I spent countless hours poring over lines of code, analyzing patterns, and conducting thorough testing to pinpoint the root cause of the discrepancies. My unwavering commitment to excellence and meticulous attention to detail eventually led me to identify a subtle bug in the system's architecture. To rectify the situation, I collaborated closely with our team of engineers, providing clear and concise instructions to address the bug and implement a comprehensive solution. Our collective efforts resulted in the successful resolution of the issue, restoring accuracy and reliability to the client's data analytics platform. The client expressed their immense gratitude for our prompt and effective response, reaffirming their trust in our services. It is moments like these that remind me of the immense satisfaction that comes from solving complex problems and making a positive impact on our clients' businesses. I take immense pride in my ability to identify and resolve challenges with ingenuity and precision. My unwavering commitment to excellence and passion for delivering exceptional results drive me to consistently exceed expectations. Mieko Mitsubishi Account Manager 1309 Southwest 71st Terrace mieko_mitsubishi@msn.org\n",
       "3                                                                                                                                                                                                                                                                                                                                                                                                                                                                                                                                                                                  My name is Kazuo Sun, and I'm an air traffic controller with seven years of experience. I've always been fascinated by aviation, and I love the challenge of keeping planes safe and on time. One of the most memorable projects I worked on was a major upgrade to our airport's radar system. The old system was outdated and prone to breakdowns, and it was becoming increasingly difficult to keep up with the growing number of flights. I was assigned to the team that was responsible for planning and implementing the upgrade. We worked closely with the engineers and technicians to design a new system that would be more reliable, efficient, and capable. The project took several months to complete, and it was a lot of hard work. But in the end, it was worth it. The new radar system has been a major improvement, and it has helped us to improve the safety and efficiency of our airport. I'm proud of the work that I did on this project, and I'm grateful for the opportunity to have been a part of it. It was a challenging experience, but it also taught me a lot about teamwork, problem-solving, and the importance of staying up-to-date on the latest technology. Outside of work, I enjoy spending time with my family and friends. I also enjoy amateur radio and tinkering with electronics. I'm always looking for new projects to work on, and I'm always learning new things. If you'd like to get in touch with me, you can reach me by phone at 0304 2215930 or by email at kazuosun@hotmail.net. You can also find me at my home address, which is 736 Sicard Street Southeast.\n",
       "4                                                                                                                                                                                                                                                                                                                                                                                                                                                                                                                                                                                                                                                                                                                                                                                                                                                           My name is Arina Sun, and I'm a dental hygienist. I have the privilege of assisting individuals in maintaining excellent oral health. One memorable incident that stands out in my career occurred during a routine checkup. I noticed an abnormality in a patient's X-ray. Upon closer examination, I discovered a small cavity forming between two molars. The patient had not experienced any pain or sensitivity, so they were unaware of the issue. I brought it to their attention, explained the potential consequences of leaving it untreated, and recommended a course of action. The patient was grateful for my diligence and promptly scheduled an appointment for a filling. The patient returned a few days later, and the filling procedure went smoothly. They expressed their appreciation for my attention to detail and for preventing a more serious problem from developing. Moments like these remind me of the profound impact dental hygienists can have on the lives of our patients. It's important to maintain regular checkups and cleanings to ensure optimal oral health. If you have any questions or concerns about your oral health, don't hesitate to reach out to me at arina-sun@gmail.net or visit my office at 5701 North 67th Avenue. Let's work together to achieve and maintain a healthy, beautiful smile.\n",
       "Name: text, dtype: object"
      ]
     },
     "execution_count": 3,
     "metadata": {},
     "output_type": "execute_result"
    }
   ],
   "source": [
    "df['text'].head()"
   ]
  },
  {
   "cell_type": "code",
   "execution_count": 4,
   "id": "026b75e1",
   "metadata": {
    "scrolled": true
   },
   "outputs": [
    {
     "data": {
      "text/html": [
       "<div>\n",
       "<style scoped>\n",
       "    .dataframe tbody tr th:only-of-type {\n",
       "        vertical-align: middle;\n",
       "    }\n",
       "\n",
       "    .dataframe tbody tr th {\n",
       "        vertical-align: top;\n",
       "    }\n",
       "\n",
       "    .dataframe thead th {\n",
       "        text-align: right;\n",
       "    }\n",
       "</style>\n",
       "<table border=\"1\" class=\"dataframe\">\n",
       "  <thead>\n",
       "    <tr style=\"text-align: right;\">\n",
       "      <th></th>\n",
       "      <th>words</th>\n",
       "    </tr>\n",
       "  </thead>\n",
       "  <tbody>\n",
       "    <tr>\n",
       "      <th>0</th>\n",
       "      <td>i</td>\n",
       "    </tr>\n",
       "    <tr>\n",
       "      <th>1</th>\n",
       "      <td>me</td>\n",
       "    </tr>\n",
       "    <tr>\n",
       "      <th>2</th>\n",
       "      <td>my</td>\n",
       "    </tr>\n",
       "    <tr>\n",
       "      <th>3</th>\n",
       "      <td>myself</td>\n",
       "    </tr>\n",
       "    <tr>\n",
       "      <th>4</th>\n",
       "      <td>we</td>\n",
       "    </tr>\n",
       "    <tr>\n",
       "      <th>...</th>\n",
       "      <td>...</td>\n",
       "    </tr>\n",
       "    <tr>\n",
       "      <th>122</th>\n",
       "      <td>will</td>\n",
       "    </tr>\n",
       "    <tr>\n",
       "      <th>123</th>\n",
       "      <td>just</td>\n",
       "    </tr>\n",
       "    <tr>\n",
       "      <th>124</th>\n",
       "      <td>don</td>\n",
       "    </tr>\n",
       "    <tr>\n",
       "      <th>125</th>\n",
       "      <td>should</td>\n",
       "    </tr>\n",
       "    <tr>\n",
       "      <th>126</th>\n",
       "      <td>now</td>\n",
       "    </tr>\n",
       "  </tbody>\n",
       "</table>\n",
       "<p>127 rows × 1 columns</p>\n",
       "</div>"
      ],
      "text/plain": [
       "      words\n",
       "0         i\n",
       "1        me\n",
       "2        my\n",
       "3    myself\n",
       "4        we\n",
       "..      ...\n",
       "122    will\n",
       "123    just\n",
       "124     don\n",
       "125  should\n",
       "126     now\n",
       "\n",
       "[127 rows x 1 columns]"
      ]
     },
     "execution_count": 4,
     "metadata": {},
     "output_type": "execute_result"
    }
   ],
   "source": [
    "stop_words"
   ]
  },
  {
   "cell_type": "markdown",
   "id": "b1757426",
   "metadata": {},
   "source": [
    "# CountVectorizer\n",
    "We can find and add the most used words in our dataset using this method. Removing these words gives us a cleaner and more accurate results in the end.\n",
    "\n",
    "**note: after a couple of tries I realized the English dataframe contains more meaningless words but all of them could not be removed since it disrupts the process of the word2vec model (I could have gone for more words for instance 500 but it would have made the model less accurate because some of the words in between were actually valuable)"
   ]
  },
  {
   "cell_type": "code",
   "execution_count": 5,
   "id": "9373f9a6",
   "metadata": {},
   "outputs": [
    {
     "data": {
      "text/html": [
       "<div>\n",
       "<style scoped>\n",
       "    .dataframe tbody tr th:only-of-type {\n",
       "        vertical-align: middle;\n",
       "    }\n",
       "\n",
       "    .dataframe tbody tr th {\n",
       "        vertical-align: top;\n",
       "    }\n",
       "\n",
       "    .dataframe thead th {\n",
       "        text-align: right;\n",
       "    }\n",
       "</style>\n",
       "<table border=\"1\" class=\"dataframe\">\n",
       "  <thead>\n",
       "    <tr style=\"text-align: right;\">\n",
       "      <th></th>\n",
       "      <th>Word</th>\n",
       "      <th>Count</th>\n",
       "    </tr>\n",
       "  </thead>\n",
       "  <tbody>\n",
       "    <tr>\n",
       "      <th>25936</th>\n",
       "      <td>the</td>\n",
       "      <td>73872</td>\n",
       "    </tr>\n",
       "    <tr>\n",
       "      <th>6798</th>\n",
       "      <td>and</td>\n",
       "      <td>59331</td>\n",
       "    </tr>\n",
       "    <tr>\n",
       "      <th>26163</th>\n",
       "      <td>to</td>\n",
       "      <td>47891</td>\n",
       "    </tr>\n",
       "    <tr>\n",
       "      <th>19678</th>\n",
       "      <td>of</td>\n",
       "      <td>36856</td>\n",
       "    </tr>\n",
       "    <tr>\n",
       "      <th>19096</th>\n",
       "      <td>my</td>\n",
       "      <td>24767</td>\n",
       "    </tr>\n",
       "    <tr>\n",
       "      <th>...</th>\n",
       "      <td>...</td>\n",
       "      <td>...</td>\n",
       "    </tr>\n",
       "    <tr>\n",
       "      <th>11282</th>\n",
       "      <td>did</td>\n",
       "      <td>379</td>\n",
       "    </tr>\n",
       "    <tr>\n",
       "      <th>7144</th>\n",
       "      <td>areas</td>\n",
       "      <td>377</td>\n",
       "    </tr>\n",
       "    <tr>\n",
       "      <th>22561</th>\n",
       "      <td>resilience</td>\n",
       "      <td>376</td>\n",
       "    </tr>\n",
       "    <tr>\n",
       "      <th>17198</th>\n",
       "      <td>lead</td>\n",
       "      <td>374</td>\n",
       "    </tr>\n",
       "    <tr>\n",
       "      <th>14802</th>\n",
       "      <td>highly</td>\n",
       "      <td>373</td>\n",
       "    </tr>\n",
       "  </tbody>\n",
       "</table>\n",
       "<p>500 rows × 2 columns</p>\n",
       "</div>"
      ],
      "text/plain": [
       "             Word  Count\n",
       "25936         the  73872\n",
       "6798          and  59331\n",
       "26163          to  47891\n",
       "19678          of  36856\n",
       "19096          my  24767\n",
       "...           ...    ...\n",
       "11282         did    379\n",
       "7144        areas    377\n",
       "22561  resilience    376\n",
       "17198        lead    374\n",
       "14802      highly    373\n",
       "\n",
       "[500 rows x 2 columns]"
      ]
     },
     "execution_count": 5,
     "metadata": {},
     "output_type": "execute_result"
    }
   ],
   "source": [
    "\n",
    "# initialize CountVectorizer\n",
    "vectorizer = CountVectorizer()\n",
    "\n",
    "# fit and transform the text column\n",
    "X = vectorizer.fit_transform(df['text'])\n",
    "\n",
    "# get the feature names\n",
    "feature_names = vectorizer.get_feature_names_out()\n",
    "\n",
    "# sum up the occurrences of each word\n",
    "word_counts = X.sum(axis=0)\n",
    "\n",
    "# convert the word counts to a 1D array\n",
    "word_counts_array = np.squeeze(np.asarray(word_counts))\n",
    "\n",
    "# create a DataFrame with word counts and their corresponding feature names\n",
    "word_counts_df = pd.DataFrame({'Word': feature_names, 'Count': word_counts_array})\n",
    "\n",
    "# sort the dataframe by word counts to see the most frequent words\n",
    "most_common_words = word_counts_df.sort_values(by='Count', ascending=False)\n",
    "\n",
    "# extract the top 30 most common words from the dataframe\n",
    "top_common_words = most_common_words.head(100)['Word'].tolist()\n",
    "\n",
    "# append the top common words to your existing stop words list\n",
    "stop_words_list.extend(top_common_words)\n",
    "\n",
    "most_common_words.head(500)\n",
    "\n"
   ]
  },
  {
   "cell_type": "markdown",
   "id": "66041f82",
   "metadata": {},
   "source": [
    "# Text cleaning process\n",
    "Using the re library we can remove stop words from our data in the text column and remove all of the special characters as well.(this one differs from the Persian cleaner presented in the other file. In the other project the cleaner faced some issues when it came to removing stop words so I had to take a different approach. This one on the other hand was simpler.)"
   ]
  },
  {
   "cell_type": "code",
   "execution_count": 6,
   "id": "905d4826",
   "metadata": {},
   "outputs": [
    {
     "data": {
      "text/plain": [
       "0                                                                                                                                                                                                                                                                                                                                                                                                                                                          Aaliyah Popova jeweler 13 remember unique challenging last year approached precious family heirloom diamond necklace passed generations Unfortunately necklace poor condition several loose diamonds broken clasp wanted restore former glory clear ordinary repair Using specialized tools techniques began delicate task dismantling necklace diamond carefully removed setting damaged clasp removed necklace completely disassembled meticulously cleaned diamond inspected damage Fortunately diamonds good condition cracks chips next step repair broken clasp carefully soldered broken pieces back together ensuring clasp sturdy secure clasp repaired began process reassembling necklace diamond carefully placed back setting necklace polished sparkled presented restored necklace overjoyed couldnt believe bring family heirloom back necklace looked beautiful first created thrilled back possession discuss please feel free 95 942157906 aaliyahpopova4783aoledu look forward hearing PS Im creating beautiful jewelry enjoy spending podcasting love sharing jewelry connecting people passionate art form enjoy spending family exploring places learn please feel free visit website website visit studio located 97 Lincoln Street\n",
       "1                                                                                                                                                                                                                                                                                                                                                                                                                                                                                                                                                                                                                                                                                                                                                                                                                                                                                                                       Konstantin Becker Im developer two recently built portal goal create userfriendly intuitive interface easier customers manage accounts access started gathering requirements customers conducting user research understand needs pain points designed user interface visually appealing easy use implemented number features ability customers view account history track orders submit support tickets online customers happy portal found much easier use old appreciated features saw significant increase satisfaction engagement result portal responsible developing backend code portal closely design portal visually appealing userfriendly Im proud Im confident continue benefit customers come konstantinbeckergmailcom number 0475 4429797 live 826 Webster Street Quilting hobby\n",
       "2                                                                                                                                                                                                                                                                                                                                                                                          Mieko Mitsubishi account manager prominent software encountered unique challenge required utmost solve issue arose valued clients leading multinational corporation reported inconsistencies data analytics platform discrepancies affecting decisionmaking processes causing uncertainty within operations sense urgency delved intricacies problem carefully examining data sets algorithms underlying infrastructure spent countless hours poring lines code analyzing patterns conducting thorough testing pinpoint root cause discrepancies excellence meticulous attention detail eventually led identify subtle bug systems architecture rectify situation collaborated closely engineers providing clear concise instructions bug implement comprehensive solution collective efforts resulted successful resolution issue restoring accuracy reliability clients data analytics platform client expressed immense gratitude prompt effective response reaffirming trust services moments remind immense satisfaction comes solving complex problems making clients businesses take immense pride ability identify resolve ingenuity precision excellence delivering exceptional results drive consistently exceed expectations Mieko Mitsubishi Account Manager 1309 Southwest 71st Terrace mieko_mitsubishimsnorg\n",
       "3                                                                                                                                                                                                                                                                                                                                                                                                                                                                                                                                                                                                                                                                                                                                                                                                                                                                                      Kazuo Sun Im air traffic controller seven Ive fascinated aviation love challenge keeping planes safe memorable projects major upgrade airports radar old outdated prone breakdowns becoming increasingly difficult keep growing number flights assigned responsible planning implementing upgrade closely engineers technicians design reliable efficient capable took several months complete lot hard end worth radar major improvement helped us improve safety efficiency airport Im proud Im grateful opportunity part challenging taught lot teamwork problemsolving importance staying uptodate latest technology Outside enjoy spending family friends enjoy amateur radio tinkering electronics Im looking projects Im learning things youd get touch 0304 2215930 kazuosunhotmailnet home 736 Sicard Street Southeast\n",
       "4                                                                                                                                                                                                                                                                                                                                                                                                                                                                                                                                                                                                                                                                                                                                                                                                                             Arina Sun Im dental hygienist privilege assisting individuals maintaining excellent oral health memorable incident stands career occurred routine checkup noticed abnormality patients Xray Upon closer examination discovered small cavity forming two molars experienced pain sensitivity unaware issue brought attention explained potential consequences leaving untreated recommended course action grateful diligence promptly scheduled appointment filling returned days later filling procedure went smoothly expressed appreciation attention detail preventing serious problem developing Moments remind profound dental hygienists lives patients important maintain regular checkups cleanings optimal oral health questions concerns oral health dont hesitate arinasungmailnet visit office 5701 North 67th Avenue Lets together achieve maintain healthy beautiful smile\n",
       "                                                                                                                                                                                                                                                                                                                                                                                                                                                                                                                                                                                                                                                                                                                                                                                                                                                             ...                                                                                                                                                                                                                                                                                                                                                                                                                                                                                                                                                                                                                                                                                                                                                                                                                                                      \n",
       "4429                                                                                                                     Hello Im Nicholas Moore man rich tapestry experiences Ive encountered countless individuals embarked extraordinary adventures shaped person today grew quaint little town nestled amidst rolling hills vibrant meadows childhood filled laughter exploration warmth family matured thirst adventure propelled pursue higher education delved literature philosophy science expanding horizons igniting lifelong learning early twenties embarked transformative took across continents cultures backpacked Southeast Asia marveled wonders ancient Europe immersed vibrant energy South America experiences opened eyes beauty diversity planet instilled profound appreciation different perspectives Upon returning home channeled newfound insights career international relations joined nongovernmental organization dedicated promoting peace understanding among nations privilege collaborating passionate individuals walks working tirelessly Along way met remarkable people became lifelong friends confidants discovered power human connection importance nurturing meaningful relationships Whether sharing laughter cup coffee engaging deep conversations challenged perspectives connections enriched beyond measure reflect thus far Im grateful experiences joyous challenging shaped Ive learned value resilience empathy pursuit dreams Though path may taken unexpected turns wouldnt trade anything youd connect feel free nicholas_moore8047yahoogov 9163720 22261 35915 Patrick Mews Suite 978 Im open engaging thoughtprovoking conversations embarking adventures\n",
       "4430                                                                                                                                                                                                                                                                                                                                                                                                                                                                                                                                                        Hello Alexey Novikov Im psychologist solved rather unique case recently weeks ago woman named Sarah came peculiar problem experiencing recurring nightmares left feeling anxious exhausted Upon exploration discovered Sarah fear confined spaces developed trapped elevator several hours child Sarahs issue employed combination cognitivebehavioral therapy exposure therapy cognitivebehavioral therapy identifying challenging negative thoughts beliefs contributing fear Simultaneously engaged exposure therapy Sarah gradually exposed confined spaces controlled supportive environment progressed therapy Sarahs fear confined spaces began diminish reported experiencing fewer nightmares feeling confident everyday situations involved enclosed areas transformation Sarahs remarkable could go grocery store without feeling overwhelmed attend social events smaller rooms even take public transportation rush hour grateful opportunity helped Sarah overcome fear incredibly rewarding witness psychological interventions individuals lives youd connect via alexeynovikovmsngov visiting office located 161 Creek Road Thank reading\n",
       "4431                                                                                                                        Ludmila Inoue Im person story worth telling humble beginnings 706 Seagrove Road Ive embarked taken great heights spirit adventure determination succeed Ive navigated lifes twists turns resilience grace Growing fascinated around Books companions became currency spent countless hours exploring libraries immersing different subjects learning fueled desire meaningful embarked professional discovered knack problemsolving talent connecting people found drawn dynamic business could apply tangible difference strong ethic rose ranks leaving trail wake career Ive privilege working brightest minds inspiring leaders collaborations enriched taught invaluable lessons teamwork innovation power perseverance Ive learned solo endeavor collective effort everyones contributions matter without Ive faced obstacles setbacks along way Ive approached opportunities growth believe adversity catalyst resilience toughest times discover true strength potential reflect Im filled gratitude experiences shaped person today Im grateful people supported challenged inspired heights Im grateful lessons Ive learned triumphs setbacks could offer piece advice starting journeys never give dreams matter big small aspirations valid Embrace come way never stop learning growing needs unique talents perspectives share confidence continue incredible remain committed making Im excited possibilities lie ahead opportunities connect people difference youd feel free 285 8157373 ludmila_inoueoutlooknet Lets collaborate create something extraordinary together\n",
       "4432    Dr Tu Garcia renowned dermatologist embarked last year aimed raise awareness skin cancer prevention early detection educating importance skin health Dr Garcia dedicated leveraging communication channels Dr Garcia began establishing dedicated webpage website httpblogtugarciaedu published informative articles videos interactive quizzes skin cancer used extensive provide valuable insights different types skin cancer risk factors importance regular skin selfexaminations engage Dr Garcia organized several educational workshops seminars local centers schools delivered interactive presentations using visual aids reallife examples emphasize crucial role sun protection early detection preventing skin cancer facilitated QA sessions allowing participants clarify doubts gain deeper understanding subject Understanding significance accessibility Dr Garcia made available consultations inquiries channels provided number 9114426 83047 tugarciaoutlookcom ensuring individuals could conveniently responded promptly queries offering personalized advice guidance Dr Garcias efforts widely appreciated witnessed remarkable response webpage garnered significant traffic individuals seeking resources skin cancer workshops seminars attended diverse audience including students adults senior citizens demonstrating projects inclusivity effectiveness Dr Tu Garcia successfully raised awareness skin cancer prevention early detection educating providing accessible resources made empowering individuals take proactive steps towards maintaining healthy skin serves exemplary model dermatologists healthcare professionals strive difference promoting skin health\n",
       "4433                                                                                                                                                                                                                                                                                                                                                                                                                                                                                                                                                                                                                                                                                                                                                                                                                                                                                                                                                                         Hello Im Badi Nakamura programmer Im based 2703 Woolsey Street via badinakamuragmailorg day encountered puzzling problem software experiencing frequent crashes error logs werent providing clear indications root cause thorough investigation discovered crashes triggered specific sequence user actions sequence involved series rapid button clicks resulted race condition causing software malfunction resolve issue implemented lock mechanism user action could processed prevented race condition occurring eliminated crashes Additionally optimized code improve performance stability result efforts softwares stability significantly improved user greatly enhanced proud played role resolving issue contributing overall\n",
       "Name: text, Length: 4434, dtype: object"
      ]
     },
     "execution_count": 6,
     "metadata": {},
     "output_type": "execute_result"
    }
   ],
   "source": [
    "def remove_word_eng(text):\n",
    "    # Clean the text\n",
    "    clean = re.sub(r'\\s+', ' ', text)\n",
    "    clean = re.sub(r'[^\\w\\s]', '', clean)\n",
    "    \n",
    "    # Remove stop words\n",
    "    words = clean.split()\n",
    "    \n",
    "    filtered_words = [word for word in words if word.lower() not in stop_words_list]\n",
    "    \n",
    "    # Join the filtered words back into a single string\n",
    "    cleaned_text = ' '.join(filtered_words)\n",
    "    \n",
    "    return cleaned_text\n",
    "\n",
    "\n",
    "df['text'].apply(remove_word_eng)"
   ]
  },
  {
   "cell_type": "markdown",
   "id": "8f738995",
   "metadata": {},
   "source": [
    "# Applying NLTK stemmer to English words\n",
    "Since we are using an English document it is more logical to use something more reliable like NLTK's stemmer.(just like the  previous stemmer there are two sorts of stemming but the PorterStemmer approach is the hardware friendly one)"
   ]
  },
  {
   "cell_type": "code",
   "execution_count": 7,
   "id": "6b40aa0c",
   "metadata": {},
   "outputs": [
    {
     "data": {
      "text/plain": [
       "0                                                                                                                                                                                                                                                                                                                                                                                                                                                                                          my name is aaliyah popova, and i am a jewel with 13 year of experience. i rememb a veri uniqu and challeng project i had to work on last year. a custom approach me with a preciou famili heirloom - a diamond necklac that had been pass down through generations. unfortunately, the necklac wa in poor condition, with sever loos diamond and a broken clasp. the custom want me to restor it to it former glory, but it wa clear that thi would be no ordinari repair. use my special tool and techniques, i began the delic task of dismantl the necklace. each diamond wa care remov from it setting, and the damag clasp wa removed. onc the necklac wa complet disassembled, i meticul clean each diamond and inspect it for ani damage. fortunately, the diamond were all in good condition, with no crack or chips. the next step wa to repair the broken clasp. i care solder the broken piec back together, ensur that the clasp wa sturdi and secure. onc the clasp wa repaired, i began the process of reassembl the necklace. each diamond wa care place back into it setting, and the necklac wa polish until it sparkl like new. when i present the restor necklac to the customer, they were overjoyed. they couldn't believ that i had been abl to bring their famili heirloom back to life. the necklac look as beauti as it had when it wa first created, and the custom wa thrill to have it back in their possession. if you have a project that you would like to discuss, pleas feel free to contact me by phone at (95) 94215-7906 or by email at aaliyah.popova4783@aol.edu. i look forward to hear from you! p.s.: when i'm not creat beauti jewelry, i enjoy spend time podcasting. i love share my knowledg about jewelri and connect with other peopl who are passion about thi art form. i also enjoy spend time with my famili and explor new places. if you would like to learn more about me, pleas feel free to visit my websit at [websit address] or visit me at my studio locat at 97 lincoln street.\n",
       "1                                                                                                                                                                                                                                                                                                                                                                                                                                                                                                                                                                                                                                                                                                                                                                                                                                                                                                                                                                                                                                                                                                   my name is konstantin becker, and i'm a develop with two year of experience. i recent work on a project where we built a new custom portal for our company. the goal wa to creat a more user-friendli and intuit interfac that would make it easier for custom to manag their account and access information. we start by gather requir from our custom and conduct user research to understand their need and pain points. we then design a new user interfac that wa both visual appeal and easi to use. we also implement a number of new features, such as the abil for custom to view their account history, track their orders, and submit support ticket online. the project wa a success, and our custom were veri happi with the new portal. they found it to be much easier to use than the old one, and they appreci the new features. we saw a signific increas in custom satisfact and engag as a result of the new portal. throughout the project, i wa respons for develop the back-end code for the portal. i also work close with the design team to ensur that the portal wa visual appeal and user-friendly. i'm proud of the work that i did on thi project, and i'm confid that it will continu to benefit our custom for year to come. if you would like to contact me, my email address is konstantin.becker@gmail.com and my phone number is 0475 4429797. i live at 826 webster street. quilt is my hobby.\n",
       "2                                                                                                                                                                                                                                                                                                                                                                                                                                                                                                                                                                                                                                                                                                                                                                                                                                                                                         as mieko mitsubishi, an account manag at a promin softwar company, i encount a uniqu challeng that requir my utmost dedic and expertis to solve. the issu aros when one of our valu clients, a lead multin corporation, report inconsist in their data analyt platform. the discrep were affect their decision-mak process and caus uncertainti within their operations. with a sens of urgency, i delv into the intricaci of the problem, care examin the data sets, algorithms, and underli infrastructure. i spent countless hour pore over line of code, analyz patterns, and conduct thorough test to pinpoint the root caus of the discrepancies. my unwav commit to excel and meticul attent to detail eventu led me to identifi a subtl bug in the system' architecture. to rectifi the situation, i collabor close with our team of engineers, provid clear and concis instruct to address the bug and implement a comprehens solution. our collect effort result in the success resolut of the issue, restor accuraci and reliabl to the client' data analyt platform. the client express their immens gratitud for our prompt and effect response, reaffirm their trust in our services. it is moment like these that remind me of the immens satisfact that come from solv complex problem and make a posit impact on our clients' businesses. i take immens pride in my abil to identifi and resolv challeng with ingenu and precision. my unwav commit to excel and passion for deliv except result drive me to consist exceed expectations. mieko mitsubishi account manag 1309 southwest 71st terrac mieko_mitsubishi@msn.org\n",
       "3                                                                                                                                                                                                                                                                                                                                                                                                                                                                                                                                                                                                                                                                                                                                                                                                                                                                                                                                                                                                                      my name is kazuo sun, and i'm an air traffic control with seven year of experience. i'v alway been fascin by aviation, and i love the challeng of keep plane safe and on time. one of the most memor project i work on wa a major upgrad to our airport' radar system. the old system wa outdat and prone to breakdowns, and it wa becom increasingli difficult to keep up with the grow number of flights. i wa assign to the team that wa respons for plan and implement the upgrade. we work close with the engin and technician to design a new system that would be more reliable, efficient, and capable. the project took sever month to complete, and it wa a lot of hard work. but in the end, it wa worth it. the new radar system ha been a major improvement, and it ha help us to improv the safeti and effici of our airport. i'm proud of the work that i did on thi project, and i'm grate for the opportun to have been a part of it. it wa a challeng experience, but it also taught me a lot about teamwork, problem-solving, and the import of stay up-to-d on the latest technology. outsid of work, i enjoy spend time with my famili and friends. i also enjoy amateur radio and tinker with electronics. i'm alway look for new project to work on, and i'm alway learn new things. if you'd like to get in touch with me, you can reach me by phone at 0304 2215930 or by email at kazuosun@hotmail.net. you can also find me at my home address, which is 736 sicard street southeast.\n",
       "4                                                                                                                                                                                                                                                                                                                                                                                                                                                                                                                                                                                                                                                                                                                                                                                                                                                                                                                                                                                                                                                                                                                                                                                                                                                                                                             my name is arina sun, and i'm a dental hygienist. i have the privileg of assist individu in maintain excel oral health. one memor incid that stand out in my career occur dure a routin checkup. i notic an abnorm in a patient' x-ray. upon closer examination, i discov a small caviti form between two molars. the patient had not experienc ani pain or sensitivity, so they were unawar of the issue. i brought it to their attention, explain the potenti consequ of leav it untreated, and recommend a cours of action. the patient wa grate for my dilig and promptli schedul an appoint for a filling. the patient return a few day later, and the fill procedur went smoothly. they express their appreci for my attent to detail and for prevent a more seriou problem from developing. moment like these remind me of the profound impact dental hygienist can have on the live of our patients. it' import to maintain regular checkup and clean to ensur optim oral health. if you have ani question or concern about your oral health, don't hesit to reach out to me at arina-sun@gmail.net or visit my offic at 5701 north 67th avenue. let' work togeth to achiev and maintain a healthy, beauti smile.\n",
       "                                                                                                                                                                                                                                                                                                                                                                                                                                                                                                                                                                                                                                                                                                                                                                                                                                                                                                                                                                                                                                                                                                                                                                                                                                                                     ...                                                                                                                                                                                                                                                                                                                                                                                                                                                                                                                                                                                                                                                                                                                                                                                                                                                                                                                                                                                                                                                                                                                                                                                                                                                               \n",
       "4429                                                                                                                                                                                                                                                                                                                                                                 hello, i'm nichola moore, a man with a rich tapestri of life experiences. throughout my journey, i'v encount countless individu and embark on extraordinari adventures, all of which have shape me into the person i am today. i grew up in a quaint littl town nestl amidst roll hill and vibrant meadows. my childhood wa fill with laughter, exploration, and the warmth of family. as i matured, my thirst for knowledg and adventur propel me to pursu higher education. i delv into the world of literature, philosophy, and science, expand my horizon and ignit a passion for lifelong learning. in my earli twenties, i embark on a transform journey that took me across contin and cultures. i backpack through southeast asia, marvel at the wonder of the ancient world in europe, and immers myself in the vibrant energi of south america. these experi open my eye to the beauti and divers of our planet and instil in me a profound appreci for differ perspectives. upon return home, i channel my newfound insight into a career in intern relations. i join a non-government organ dedic to promot peac and understand among nations. through my work, i had the privileg of collabor with passion individu from all walk of life, work tirelessli to make a posit impact on the world. along the way, i met remark peopl who becam lifelong friend and confidants. i discov the power of human connect and the import of nurtur meaning relationships. whether it wa share laughter over a cup of coffe or engag in deep convers that challeng my perspectives, these connect enrich my life beyond measure. as i reflect on my journey thu far, i'm grate for the experiences, both joyou and challenging, that have shape me. i'v learn the valu of resilience, empathy, and the unwav pursuit of my dreams. though my path may have taken unexpect turns, i wouldn't trade it for anything. if you'd like to connect, feel free to reach me at nicholas_moore8047@yahoo.gov or +91-63720 22261. you can also find me at 35915 patrick mew suit 978, where i'm alway open to engag in thought-provok convers and embark on new adventures.\n",
       "4430                                                                                                                                                                                                                                                                                                                                                                                                                                                                                                                                                                                                                                                                                                                                                                                                                                                                                                                                                                                                                                        hello, my name is alexey novikov and i'm a psychologist who solv a rather uniqu case recently. a few week ago, a woman name sarah came to me with a peculiar problem. she wa experienc recur nightmar that left her feel anxiou and exhausted. upon further exploration, i discov that sarah had a fear of confin spaces, which she had develop after be trap in an elev for sever hour as a child. to address sarah' issue, i employ a combin of cognitive-behavior therapi and exposur therapy. through cognitive-behavior therapy, we work on identifi and challeng the neg thought and belief that were contribut to her fear. simultaneously, we engag in exposur therapy, where sarah wa gradual expos to confin space in a control and support environment. as we progress with the therapy, sarah' fear of confin space began to diminish. she report experienc fewer nightmar and feel more confid in everyday situat that involv enclos areas. the transform in sarah' life wa remarkable. she could now go to the groceri store without feel overwhelmed, attend social event in smaller rooms, and even take public transport dure rush hour. i am grate for the opportun to have help sarah overcom her fear. it is incred reward to wit the posit impact that psycholog intervent can have on individuals' lives. if you'd like to connect with me, you can reach me via email at alexey.novikov@msn.gov or by visit my offic locat at 161 creek road. thank you for reading!\n",
       "4431    my name is ludmila inoue, and i'm a person with a stori worth telling. from my humbl begin at 706 seagrov road, i'v embark on a journey that ha taken me to great heights. with a spirit of adventur and a determin to succeed, i'v navig life' twist and turn with resili and grace. grow up, i wa fascin by the world around me. book were my companions, and knowledg becam my currency. i spent countless hour explor librari and immers myself in differ subjects. my passion for learn fuel my desir to make a meaning impact on the world. as i embark on my profession journey, i discov a knack for problem-solv and a talent for connect with people. i found myself drawn to the dynam world of business, where i could appli my skill and make a tangibl difference. with unwav dedic and a strong work ethic, i rose through the ranks, leav a trail of success in my wake. throughout my career, i'v had the privileg of work with some of the brightest mind and most inspir leaders. these collabor have enrich my life and taught me invalu lesson about teamwork, innovation, and the power of perseverance. i'v learn that success is not a solo endeavor; it' a collect effort where everyone' contribut matter. my journey ha not been without it challenges. i'v face obstacl and setback along the way, but i'v alway approach them as opportun for growth. i believ that advers is a catalyst for resilience, and it' in the toughest time that we discov our true strength and potential. as i reflect on my life, i'm fill with gratitud for the experi that have shape me into the person i am today. i'm grate for the peopl who have support me, challeng me, and inspir me to reach new heights. i'm grate for the lesson i'v learned, both the triumph and the setbacks. if i could offer one piec of advic to those who are just start their own journeys, it would be this: never give up on your dreams. no matter how big or small, your aspir are valid. embrac the challeng that come your way, and never stop learn and growing. the world need your uniqu talent and perspectives, so share them with confidence. as i continu on thi incred journey, i remain commit to make a posit impact on the world. i'm excit about the possibl that lie ahead and the opportun to connect with new peopl and make a difference. if you'd like to reach out to me, feel free to contact me at (285) 815-7373 or ludmila_inoue@outlook.net. let' collabor and creat someth extraordinari together!\n",
       "4432                                                                                                                                                                                                                                                                                                                                                                                                                                dr. tu garcia, a renown dermatologist, embark on a project last year that aim to rais awar about skin cancer prevent and earli detection. with a passion for educ the commun about the import of skin health, dr. garcia dedic himself to thi project, leverag hi expertis and variou commun channels. dr. garcia began the project by establish a dedic webpag on hi website, http://blog.tu-garcia.edu, where he publish inform articles, videos, and interact quizz on skin cancer. he use hi extens knowledg to provid valuabl insight into differ type of skin cancer, risk factors, and the import of regular skin self-examinations. to further engag with the community, dr. garcia organ sever educ workshop and seminar at local commun center and schools. he deliv interact presentations, use visual aid and real-lif exampl to emphas the crucial role of sun protect and earli detect in prevent skin cancer. he also facilit q&a sessions, allow particip to clarifi doubt and gain a deeper understand of the subject. understand the signific of accessibility, dr. garcia made himself avail for consult and inquiri through variou channels. he provid hi phone number, +91-14426 83047, and email address, tugarcia@outlook.com, ensur that individu could reach him conveniently. he respond promptli to queries, offer person advic and guidance. dr. garcia' effort were wide appreciated, and the project wit a remark response. the webpag garner signific traffic, with individu seek inform and resourc on skin cancer. the workshop and seminar were attend by a divers audience, includ students, adults, and senior citizens, demonstr the project' inclus and effectiveness. through thi project, dr. tu garcia success rais awar about skin cancer prevent and earli detection. hi dedic to educ the commun and provid access resourc made a posit impact, empow individu to take proactiv step toward maintain healthi skin. the project serv as an exemplari model for dermatologist and healthcar profession who strive to make a differ in promot skin health.\n",
       "4433                                                                                                                                                                                                                                                                                                                                                                                                                                                                                                                                                                                                                                                                                                                                                                                                                                                                                                                                                                                                                                                                                                                                                                                                                                                                                                                                                                                                                                                                                                              hello, i'm badi nakamura, and i work as a programmer. i'm base out of 2703 woolsey street, and you can reach me via email at badinakamura@gmail.org. one day at work, i encount a puzzl problem. our softwar wa experienc frequent crashes, and the error log weren't provid ani clear indic of the root cause. after a thorough investigation, i discov that the crash were be trigger by a specif sequenc of user actions. thi sequenc involv a seri of rapid button click that result in a race condition, caus the softwar to malfunction. to resolv the issue, i implement a lock mechan to ensur that onli one user action could be process at a time. thi prevent the race condit from occur and elimin the crashes. additionally, i optim the code to improv it perform and stability. as a result of my efforts, the software' stabil significantli improved, and the user experi wa greatli enhanced. i wa proud to have play a role in resolv thi issu and contribut to the overal success of the project.\n",
       "Name: text, Length: 4434, dtype: object"
      ]
     },
     "execution_count": 7,
     "metadata": {},
     "output_type": "execute_result"
    }
   ],
   "source": [
    "# Define your function to apply the stemmer to English words\n",
    "def apply_nltk_stemmer(text):\n",
    "    # Initialize the stemmer\n",
    "    stemmer = PorterStemmer()\n",
    "\n",
    "    # Tokenize the text into words\n",
    "    words = text.split()\n",
    "    # Apply stemming to each word using the PorterStemmer\n",
    "    stemmed_words = [stemmer.stem(word) for word in words]\n",
    "    # Join the stemmed words back into a single string\n",
    "    stemmed_text = ' '.join(stemmed_words)\n",
    "    return stemmed_text\n",
    "\n",
    "df['text'].apply(apply_nltk_stemmer)"
   ]
  },
  {
   "cell_type": "markdown",
   "id": "cc06006a",
   "metadata": {},
   "source": [
    "# Word2vec \n",
    "Again the process is the same. The only changed parts are the cleaner types and the stemmer.\n",
    "\n",
    "**note: as you can see due to the fact that we used a richer and more dense dataset we get more accurate results based on our input."
   ]
  },
  {
   "cell_type": "code",
   "execution_count": 8,
   "id": "f65717c7",
   "metadata": {},
   "outputs": [],
   "source": [
    "def word2vec(column, cleaner, user_input, num_results=10):\n",
    "    # Initialize Stemmer for Persian language\n",
    "    stemmer = PorterStemmer()\n",
    "    \n",
    "    # Preprocess the text column using the provided cleaner function\n",
    "    text = column.apply(lambda x: apply_nltk_stemmer(remove_word_eng(x)))\n",
    "    \n",
    "    # Tokenize sentences into words\n",
    "    tokenized_sentences = [word_tokenize(sentence) for sentence in text]\n",
    "    \n",
    "    # Train Word2Vec model on tokenized sentences\n",
    "    model = Word2Vec(tokenized_sentences, vector_size=150, window=6, min_count=10, workers=4)\n",
    "\n",
    "    # Initialize lists and dictionary for storing similar words\n",
    "    sim_list = []\n",
    "    sim_dic = {}\n",
    "\n",
    "    # Clean and preprocess the user input\n",
    "    user_input = cleaner(user_input)\n",
    "    user_input = apply_nltk_stemmer(remove_word_eng(user_input))\n",
    "\n",
    "    # Append the preprocessed user input to the list of similar words\n",
    "    sim_list.append(user_input)\n",
    "\n",
    "    # Find similar words for each word in the user input\n",
    "    for word in user_input.split():\n",
    "        if len(word) > 3:\n",
    "            try:\n",
    "                # Get the most similar words from the Word2Vec model\n",
    "                similar_words = model.wv.most_similar(word, topn=5)\n",
    "                for sim_words, relevance in similar_words:\n",
    "                    if sim_words not in sim_dic:\n",
    "                        sim_dic[sim_words] = relevance\n",
    "                    else:\n",
    "                        sim_dic[sim_words] += relevance\n",
    "\n",
    "            except KeyError:\n",
    "                continue\n",
    "\n",
    "    # Filter similar words based on relevance score\n",
    "    print(sim_dic)\n",
    "    sim_dic_copy = sim_dic.copy()\n",
    "\n",
    "    for key, relevance in sim_dic_copy.items():\n",
    "        if float(relevance) < 0.7:\n",
    "            sim_dic.pop(key, None)\n",
    "\n",
    "    # Append filtered similar words to the list\n",
    "    for key, relevance in sim_dic.items():\n",
    "        sim_list.append(key)\n",
    "\n",
    "    # Join the list of similar words into a single string\n",
    "    sim_string = ' '.join(sim_list)\n",
    "    return sim_string\n"
   ]
  },
  {
   "cell_type": "markdown",
   "id": "2995601c",
   "metadata": {},
   "source": [
    "# Results\n",
    "Using the function above we notice a huge difference in the relevance scores compared to the other dataset (Persian movies). This shows how much of a difference it makes when we have a bigger dataset and more samples for our model to work with"
   ]
  },
  {
   "cell_type": "code",
   "execution_count": 9,
   "id": "2dde12e6",
   "metadata": {},
   "outputs": [
    {
     "name": "stdout",
     "output_type": "stream",
     "text": [
      "{'dataset': 0.8564954400062561, 'predict': 0.813457727432251, 'statist': 0.7955108284950256, 'model': 0.7820979356765747, 'analyz': 0.7791796326637268, 'institut': 0.8311975002288818, 'biologist': 0.7848685383796692, 'intellig': 0.7843748331069946, 'field': 0.7802547216415405, 'comput': 0.7688971161842346}\n"
     ]
    },
    {
     "data": {
      "text/plain": [
       "'data scientist alot dataset predict statist model analyz institut biologist intellig field comput'"
      ]
     },
     "execution_count": 9,
     "metadata": {},
     "output_type": "execute_result"
    }
   ],
   "source": [
    "word2vec(df['text'],remove_word_eng,'a data scientist with alot of experience')"
   ]
  },
  {
   "cell_type": "markdown",
   "id": "e2f1aa61",
   "metadata": {},
   "source": [
    "# TF_IDF model\n",
    "Same process with minor changes to variables."
   ]
  },
  {
   "cell_type": "code",
   "execution_count": 10,
   "id": "ca5241da",
   "metadata": {},
   "outputs": [],
   "source": [
    "def tf_idf(X_column, user_input, num_results=10):\n",
    "    # Initialize TF-IDF vectorizer\n",
    "    tfidf_vectorizer = TfidfVectorizer(stop_words='english')\n",
    "    \n",
    "    # Preprocess text data in the input column using stemming and word removal\n",
    "    X = X_column.apply(lambda x: apply_nltk_stemmer(remove_word_eng(x)))\n",
    "    \n",
    "    # Compute TF-IDF matrix for the preprocessed text data\n",
    "    tfidf_matrix = tfidf_vectorizer.fit_transform(X)\n",
    "\n",
    "    # Remove specified words from user input\n",
    "    main_words = remove_word_eng(user_input)\n",
    "    \n",
    "    # Get similar words using Word2Vec model\n",
    "    similar_words_w2v = word2vec(X_column, remove_word_eng, main_words)\n",
    "    \n",
    "    # Apply stemming to similar words obtained from Word2Vec\n",
    "    similar_words_w2v = ' '.join([apply_nltk_stemmer(word) for word in similar_words_w2v.split()])\n",
    "\n",
    "    # Preprocess user input by applying stemming and combining with similar words\n",
    "    original_inp = remove_word_eng(user_input)\n",
    "    original_inp =' '.join([apply_nltk_stemmer(word) for word in original_inp.split()])\n",
    "    original_inp += \" \"+ similar_words_w2v\n",
    "    \n",
    "    # Filter out short words\n",
    "    original_inp = ' '.join([word for word  in original_inp.split() if len(word) > 3])\n",
    "    print(original_inp)\n",
    "\n",
    "    # Transform user input into TF-IDF vector\n",
    "    user_tfidf = tfidf_vectorizer.transform([original_inp])\n",
    "    \n",
    "    # Compute cosine similarity between user input TF-IDF vector and corpus TF-IDF matrix\n",
    "    similarities = cosine_similarity(user_tfidf, tfidf_matrix).flatten()\n",
    "    \n",
    "    # Sort and get indices of the most similar documents\n",
    "    similar_result_indices = similarities.argsort()[:-num_results - 1:-1]\n",
    "\n",
    "    # Extract specific columns from the DataFrame\n",
    "    similar_results = df.iloc[similar_result_indices][['text']] \n",
    "    \n",
    "    # Return similar movies\n",
    "    return similar_results\n"
   ]
  },
  {
   "cell_type": "markdown",
   "id": "007af5c1",
   "metadata": {},
   "source": [
    "# Note\n",
    "You might notice that the original input was repeated two times in our output (data scientist with a lot experi data scientist with alot experi...) as far as I know this causes the model to give more  weight to the original text so it does not prioritize the similar words."
   ]
  },
  {
   "cell_type": "markdown",
   "id": "0a8ff381",
   "metadata": {},
   "source": [
    "# Results\n",
    "To see how accurate the results are based on the user input press CTRL+F and search for the input words and see how accurate the results are in the text presented in the end. "
   ]
  },
  {
   "cell_type": "code",
   "execution_count": 11,
   "id": "a5d74d2f",
   "metadata": {},
   "outputs": [
    {
     "name": "stdout",
     "output_type": "stream",
     "text": [
      "{'dataset': 0.853718638420105, 'predict': 0.837277352809906, 'simul': 0.8302186131477356, 'preprocess': 0.8185425996780396, 'statist': 0.8031793832778931, 'institut': 0.8151922225952148, 'biologist': 0.8009185194969177, 'intellig': 0.7957758903503418, 'comput': 0.7924522757530212, 'geologist': 0.7902709245681763}\n",
      "data scientist alot data scientist alot dataset predict simul preprocess statist institut biologist intellig comput geologist\n"
     ]
    },
    {
     "data": {
      "text/html": [
       "<div>\n",
       "<style scoped>\n",
       "    .dataframe tbody tr th:only-of-type {\n",
       "        vertical-align: middle;\n",
       "    }\n",
       "\n",
       "    .dataframe tbody tr th {\n",
       "        vertical-align: top;\n",
       "    }\n",
       "\n",
       "    .dataframe thead th {\n",
       "        text-align: right;\n",
       "    }\n",
       "</style>\n",
       "<table border=\"1\" class=\"dataframe\">\n",
       "  <thead>\n",
       "    <tr style=\"text-align: right;\">\n",
       "      <th></th>\n",
       "      <th>text</th>\n",
       "    </tr>\n",
       "  </thead>\n",
       "  <tbody>\n",
       "    <tr>\n",
       "      <th>817</th>\n",
       "      <td>Hello, my name is Xiang Ivanova, and I'm a data scientist working at a leading technology company. Recently, I was tasked with a complex problem that required me to utilize my analytical skills and expertise in data analysis. The challenge involved understanding and resolving inconsistencies in a large dataset that contained information about customer transactions. Using advanced statistical techniques, I was able to identify patterns and anomalies within the data, leading me to discover errors in the data collection process. To address the issue, I worked closely with the data engineering team to implement corrective measures and ensure the accuracy of future data collection. This involved updating and refining the data validation procedures, improving data quality checks, and introducing automated processes to flag and correct any potential inconsistencies. As a result of these efforts, we were able to significantly reduce the number of errors in the dataset, leading to improved data integrity and enhanced decision-making capabilities for the business. Throughout the process, I communicated regularly with stakeholders, including data analysts, business leaders, and IT professionals, to ensure that my findings and recommendations were clearly understood and aligned with the company's objectives. My email address is xiangivanova@msn.org, and my office address is 1311 Durrett Lane. If you have any further questions or would like to discuss data science or analytics, feel free to reach out to me. I am always eager to share my knowledge and insights with fellow professionals and contribute to the advancement of data-driven decision-making.</td>\n",
       "    </tr>\n",
       "    <tr>\n",
       "      <th>3476</th>\n",
       "      <td>In my role as a data scientist at [Company Name], I embarked on a project that involved developing a predictive model to optimize the company's marketing campaigns. Leveraging my 17 years of experience in the field, I began by gathering and analyzing data from various sources, including customer surveys, social media platforms, and website interactions. To ensure data accuracy and completeness, I employed a rigorous data cleaning and preprocessing methodology. Once the data was prepared, I selected and applied appropriate machine learning algorithms to identify patterns and relationships within the data. This involved experimenting with different algorithms, tuning hyperparameters, and evaluating model performance using various metrics. I discovered that a gradient boosting algorithm yielded the best results. This algorithm was able to capture complex interactions between variables and make accurate predictions. To further improve the model's performance, I utilized feature engineering techniques to extract additional insights from the data. This resulted in a significant improvement in model accuracy. The culmination of my efforts was a robust and reliable predictive model that enabled the company to target its marketing campaigns more effectively. By identifying customers who were most likely to respond to specific marketing messages, the company was able to increase its conversion rates and overall marketing ROI. Throughout the project, I maintained open communication with stakeholders, providing regular updates on my progress and seeking feedback. I also ensured that the model was properly documented and easily accessible to the marketing team for ongoing use. In addition to my work as a data scientist, I am an avid traveler and enjoy exploring new cultures. I am passionate about photography and capturing the beauty of the world around me. If you would like to discuss this project further, please feel free to contact me at +86 19931 4693 or jaimitsubishi@yahoo.gov. I am also available for freelance work and collaborations. [Optional Additional Information] Name: Jai Mitsubishi Address: 711 Tatem Street Hobby: Related</td>\n",
       "    </tr>\n",
       "    <tr>\n",
       "      <th>1291</th>\n",
       "      <td>As a data scientist, I frequently encounter intricate puzzles that call for creative solutions. One notable challenge I solved involved developing a predictive model for consumer behavior in the retail industry. By leveraging vast datasets and utilizing machine learning techniques, I designed an algorithm that could accurately forecast customer purchasing patterns, leading to optimized inventory management and increased sales. My name is Ming Liu, and I take pride in my work, which has earned me recognition in the field. I can be reached via email at mingliu8741@gmail.gov. I am currently based at 292 Morgan Mountain Suite 350, where I continue to explore the fascinating world of data science. The predictive model I crafted analyzed historical sales data, customer demographics, and market trends to generate valuable insights into consumer behavior. This empowered retailers to tailor their marketing strategies and product offerings to specific customer segments, resulting in enhanced customer satisfaction and loyalty. I am dedicated to pushing the boundaries of data science and unlocking its potential to drive innovation and growth. The successful implementation of this predictive model is a testament to the transformative power of data-driven decision-making and my commitment to delivering tangible results.</td>\n",
       "    </tr>\n",
       "    <tr>\n",
       "      <th>1767</th>\n",
       "      <td>Hi, I'm Hiroko Neumann, a data scientist with a passion for solving complex problems and extracting meaningful insights from data. One particular project I'm proud of involved utilizing machine learning algorithms to predict customer churn for a major telecommunications company. The challenge was to analyze vast amounts of customer data to identify patterns and trends that could help the company proactively identify customers at risk of canceling their service. I spent countless hours gathering, cleaning, and preprocessing data from various sources, including customer demographics, usage history, billing information, and customer satisfaction surveys. Using a combination of supervised and unsupervised learning techniques, I developed a predictive model that accurately identified customers with a high probability of churning. This model leveraged features such as customer tenure, call patterns, data usage, and payment history to provide valuable insights into customer behavior. Armed with these insights, the company was able to implement targeted retention strategies, including personalized offers, improved customer service, and tailored marketing campaigns. As a result, they experienced a significant reduction in customer churn, leading to increased customer satisfaction, improved brand loyalty, and ultimately, higher revenue. Through this project, I demonstrated my expertise in data science and my ability to make a real impact on a business by leveraging data-driven solutions. It's a rewarding feeling to know that my work has helped the company retain valuable customers and optimize their marketing efforts. Feel free to reach me at hirokoneumann6387@msn.com or 1309 Columbia Road Northwest if you have any questions or if you're interested in collaborating on data science projects.</td>\n",
       "    </tr>\n",
       "    <tr>\n",
       "      <th>75</th>\n",
       "      <td>As Mary Dos Santos, I'm proud of the work I've done as a computer scientist. One memorable project I tackled was developing a comprehensive software system to analyze and visualize complex data. The challenge was to create an intuitive interface that allowed users to seamlessly navigate vast datasets and extract meaningful insights. Leveraging my expertise in data mining and machine learning, I designed a solution that utilized advanced algorithms to uncover hidden patterns and correlations within the data. The interactive dashboard I developed enabled users to explore data from multiple perspectives, generating real-time visualizations that made complex information easily comprehensible. The successful implementation of this system at a major financial institution resulted in improved decision-making processes and significant cost savings. It was a rewarding experience to witness the impact of my work in driving tangible business outcomes. Outside of my professional endeavors, I enjoy spending time with my family at our home in 517 Glenpark Drive, indulging in culinary adventures, and exploring the outdoors through hiking and camping. You can reach me via email at mary.dos santos@outlook.edu if you'd like to connect.</td>\n",
       "    </tr>\n",
       "    <tr>\n",
       "      <th>573</th>\n",
       "      <td>In my role as a data scientist, I encounter numerous challenges that require analytical thinking and technical expertise. One particular case that stands out is when I was tasked with analyzing a large dataset of customer feedback to identify key pain points and areas for improvement in our company's services. Using advanced statistical techniques, natural language processing, and machine learning algorithms, I was able to uncover valuable insights hidden within the vast amount of unstructured data. My findings revealed patterns and correlations that led to the identification of specific aspects of our services that needed attention. This analysis enabled our team to make data-driven decisions to improve customer satisfaction and enhance overall service quality. As I delved deeper into the analysis, I stumbled upon an intriguing anomaly within the dataset. A particular product consistently received negative feedback, but the reasons for dissatisfaction were unclear. To unravel this mystery, I employed a combination of qualitative and quantitative methods. I conducted in-depth interviews with customers who had expressed dissatisfaction to gather their firsthand accounts of their experiences. Additionally, I analyzed usage patterns, technical logs, and support tickets related to the product to identify potential root causes of the issues. Through this comprehensive approach, I was able to pinpoint a specific design flaw that was causing the negative feedback. This discovery empowered our engineering team to rectify the issue promptly, resulting in a significant improvement in customer satisfaction for that particular product. My analytical journey as a data scientist is not confined to a single case study. I am constantly engaged in solving complex business problems and uncovering hidden insights from data. As I continue to explore the realm of data, I strive to leverage my expertise to drive innovation and make a positive impact on the organizations I serve. If you wish to reach me, my contact details are as follows: - Name: Thomas Martinez - Email: thomas_martinez@gmail.com - Address: 3115 North Lake Boulevard</td>\n",
       "    </tr>\n",
       "    <tr>\n",
       "      <th>44</th>\n",
       "      <td>In a project that was particularly intriguing to me, I was tasked with developing a machine learning model to predict customer churn for a telecommunications company. As a seasoned data scientist with 12 years of experience in the field, I was excited to delve into this challenge. To begin, I gathered a vast dataset encompassing various customer-related data points, including demographics, usage patterns, and billing information. With the data securely stored, I embarked on the process of data exploration and preprocessing. I utilized various statistical techniques and visualization tools to identify patterns, trends, and outliers within the dataset. This initial analysis enabled me to gain valuable insights into customer behavior and helped me identify potential predictors of churn. Next, I partitioned the data into training and testing sets to ensure the robustness of the model. I then proceeded to select and tune a suitable machine learning algorithm for the task at hand. Several models were evaluated, including logistic regression, decision trees, and random forests. Hyperparameter optimization was performed to determine the optimal settings for each algorithm. The results were promising. The model achieved a high level of accuracy in predicting customer churn. However, I was not content with merely developing a model; I wanted to understand the underlying factors driving churn. To this end, I employed feature importance analysis to identify the most influential features in the model's predictions. This analysis revealed that factors such as customer tenure, usage patterns, and satisfaction with customer service were significant contributors to churn. With these insights, I collaborated with the marketing and customer service teams to develop targeted interventions aimed at reducing churn. These interventions included personalized offers, improved customer support, and tailored loyalty programs. The implemented strategies proved to be effective, resulting in a significant decrease in customer churn and an increase in customer satisfaction. I am proud of the positive impact this project has had on the telecommunications company. It has enabled them to retain valuable customers, optimize their marketing campaigns, and improve their overall customer experience. If you would like to learn more about my work, feel free to visit my webpage at https://rajeshweber.edu or connect with me on Twitter @rweber. You can also reach me at my address: 78511 Rhodes Parks Suite 200.</td>\n",
       "    </tr>\n",
       "    <tr>\n",
       "      <th>3177</th>\n",
       "      <td>My name is Sushila Roche and I work as a computer scientist at XYZ Company. My job is to find solutions for the company's IT needs and improve the efficiency of their systems. One of the challenges I recently solved was the issue of data integration between our company's different software applications. The company had been using multiple applications for various tasks, but the data was not integrated between them. This led to inconsistencies and errors in the data, making it difficult for the company to make informed decisions. I conducted a thorough analysis of the existing systems and identified the challenges in integrating them. I then researched and evaluated various data integration tools and technologies that could help me achieve the desired results. I implemented a data integration solution that utilized a middleware platform to connect the different applications and enable seamless data transfer between them. I also developed a comprehensive data governance policy to ensure the accuracy, consistency, and security of the integrated data. This successful integration resulted in improved data quality, better decision-making, and increased operational efficiency within the company. My contact details are: Sushila Roche, 80 Homestead Street, sushila_roche6411@aol.com.</td>\n",
       "    </tr>\n",
       "    <tr>\n",
       "      <th>271</th>\n",
       "      <td>Hi, I'm Boris Anderson, a data scientist living at 10406 Sunlight Lane. I'm writing to share an interesting problem I solved at work. We were working on a project to improve the efficiency of our customer service department. We had a lot of data on customer interactions, but it was challenging to identify patterns and trends that could help us make improvements. I used a combination of machine learning and statistical analysis to identify key factors that impacted customer satisfaction. I also developed a predictive model that could help us identify customers who were likely to have a negative experience. This allowed us to prioritize these customers and provide them with additional support. The result was a significant improvement in customer satisfaction and a reduction in the number of customer complaints. This led to a more positive customer experience and increased revenue for the company. If you have any questions about my work, please feel free to contact me at boris.anderson@outlook.com.</td>\n",
       "    </tr>\n",
       "    <tr>\n",
       "      <th>3957</th>\n",
       "      <td>Hello, I'm Lucy Weiss. I have worked as a biologist for the last nine years. In my most recent position at the National Institute of Health, I led a project investigating the effects of climate change on local ecosystems. I began by assembling a team of scientists with expertise in ecology, meteorology, and GIS mapping. We then collected data on local plant and animal populations, as well as climate patterns, over a period of several years. One of the challenges we faced was the sheer volume of data we collected. To address this, we developed a database system that allowed us to store and organize the data in a way that made it easy to analyze. We also used statistical software to identify trends and patterns in the data. Our analysis revealed that climate change was having a significant impact on local ecosystems. We found that rising temperatures were leading to changes in plant and animal distributions, as well as increased frequency and severity of extreme weather events. We presented our findings at a scientific conference, and they were published in a peer-reviewed journal. Our work has helped to raise awareness of the impacts of climate change on local ecosystems, and it has informed policy decisions at the local and national levels. In addition to my work as a biologist, I enjoy weaving as a hobby. I also enjoy spending time with my family and friends. If you would like to get in touch with me, you can reach me by phone at 0178 774 3597, by email at lucyweiss1295@hotmail.gov, or by mail at 19404 North 77th Avenue.</td>\n",
       "    </tr>\n",
       "  </tbody>\n",
       "</table>\n",
       "</div>"
      ],
      "text/plain": [
       "                                                                                                                                                                                                                                                                                                                                                                                                                                                                                                                                                                                                                                                                                                                                                                                                                                                                                                                                                                                                                                                                                                                                                                                                                                                                                                                                                                                                                                                                                                                                                                                                                                                                                                                                                                                                                                                                                                                                                                                                                                                                                                                                                                                                                                                                                                                                                                                                                                                                                                                                                                                                                  text\n",
       "817                                                                                                                                                                                                                                                                                                                                                                                                                                                                                                                                                                                                                                                                                                                                                                                                                                                                                   Hello, my name is Xiang Ivanova, and I'm a data scientist working at a leading technology company. Recently, I was tasked with a complex problem that required me to utilize my analytical skills and expertise in data analysis. The challenge involved understanding and resolving inconsistencies in a large dataset that contained information about customer transactions. Using advanced statistical techniques, I was able to identify patterns and anomalies within the data, leading me to discover errors in the data collection process. To address the issue, I worked closely with the data engineering team to implement corrective measures and ensure the accuracy of future data collection. This involved updating and refining the data validation procedures, improving data quality checks, and introducing automated processes to flag and correct any potential inconsistencies. As a result of these efforts, we were able to significantly reduce the number of errors in the dataset, leading to improved data integrity and enhanced decision-making capabilities for the business. Throughout the process, I communicated regularly with stakeholders, including data analysts, business leaders, and IT professionals, to ensure that my findings and recommendations were clearly understood and aligned with the company's objectives. My email address is xiangivanova@msn.org, and my office address is 1311 Durrett Lane. If you have any further questions or would like to discuss data science or analytics, feel free to reach out to me. I am always eager to share my knowledge and insights with fellow professionals and contribute to the advancement of data-driven decision-making.\n",
       "3476                                                                                                                                                                                                                                                                                                                                                                    In my role as a data scientist at [Company Name], I embarked on a project that involved developing a predictive model to optimize the company's marketing campaigns. Leveraging my 17 years of experience in the field, I began by gathering and analyzing data from various sources, including customer surveys, social media platforms, and website interactions. To ensure data accuracy and completeness, I employed a rigorous data cleaning and preprocessing methodology. Once the data was prepared, I selected and applied appropriate machine learning algorithms to identify patterns and relationships within the data. This involved experimenting with different algorithms, tuning hyperparameters, and evaluating model performance using various metrics. I discovered that a gradient boosting algorithm yielded the best results. This algorithm was able to capture complex interactions between variables and make accurate predictions. To further improve the model's performance, I utilized feature engineering techniques to extract additional insights from the data. This resulted in a significant improvement in model accuracy. The culmination of my efforts was a robust and reliable predictive model that enabled the company to target its marketing campaigns more effectively. By identifying customers who were most likely to respond to specific marketing messages, the company was able to increase its conversion rates and overall marketing ROI. Throughout the project, I maintained open communication with stakeholders, providing regular updates on my progress and seeking feedback. I also ensured that the model was properly documented and easily accessible to the marketing team for ongoing use. In addition to my work as a data scientist, I am an avid traveler and enjoy exploring new cultures. I am passionate about photography and capturing the beauty of the world around me. If you would like to discuss this project further, please feel free to contact me at +86 19931 4693 or jaimitsubishi@yahoo.gov. I am also available for freelance work and collaborations. [Optional Additional Information] Name: Jai Mitsubishi Address: 711 Tatem Street Hobby: Related\n",
       "1291                                                                                                                                                                                                                                                                                                                                                                                                                                                                                                                                                                                                                                                                                                                                                                                                                                                                                                                                                                                                                                                                                                                                                                                                                                   As a data scientist, I frequently encounter intricate puzzles that call for creative solutions. One notable challenge I solved involved developing a predictive model for consumer behavior in the retail industry. By leveraging vast datasets and utilizing machine learning techniques, I designed an algorithm that could accurately forecast customer purchasing patterns, leading to optimized inventory management and increased sales. My name is Ming Liu, and I take pride in my work, which has earned me recognition in the field. I can be reached via email at mingliu8741@gmail.gov. I am currently based at 292 Morgan Mountain Suite 350, where I continue to explore the fascinating world of data science. The predictive model I crafted analyzed historical sales data, customer demographics, and market trends to generate valuable insights into consumer behavior. This empowered retailers to tailor their marketing strategies and product offerings to specific customer segments, resulting in enhanced customer satisfaction and loyalty. I am dedicated to pushing the boundaries of data science and unlocking its potential to drive innovation and growth. The successful implementation of this predictive model is a testament to the transformative power of data-driven decision-making and my commitment to delivering tangible results.\n",
       "1767                                                                                                                                                                                                                                                                                                                                                                                                                                                                                                                                                                                                                                                                                                                               Hi, I'm Hiroko Neumann, a data scientist with a passion for solving complex problems and extracting meaningful insights from data. One particular project I'm proud of involved utilizing machine learning algorithms to predict customer churn for a major telecommunications company. The challenge was to analyze vast amounts of customer data to identify patterns and trends that could help the company proactively identify customers at risk of canceling their service. I spent countless hours gathering, cleaning, and preprocessing data from various sources, including customer demographics, usage history, billing information, and customer satisfaction surveys. Using a combination of supervised and unsupervised learning techniques, I developed a predictive model that accurately identified customers with a high probability of churning. This model leveraged features such as customer tenure, call patterns, data usage, and payment history to provide valuable insights into customer behavior. Armed with these insights, the company was able to implement targeted retention strategies, including personalized offers, improved customer service, and tailored marketing campaigns. As a result, they experienced a significant reduction in customer churn, leading to increased customer satisfaction, improved brand loyalty, and ultimately, higher revenue. Through this project, I demonstrated my expertise in data science and my ability to make a real impact on a business by leveraging data-driven solutions. It's a rewarding feeling to know that my work has helped the company retain valuable customers and optimize their marketing efforts. Feel free to reach me at hirokoneumann6387@msn.com or 1309 Columbia Road Northwest if you have any questions or if you're interested in collaborating on data science projects.\n",
       "75                                                                                                                                                                                                                                                                                                                                                                                                                                                                                                                                                                                                                                                                                                                                                                                                                                                                                                                                                                                                                                                                                                                                                                                                                                                                                                                               As Mary Dos Santos, I'm proud of the work I've done as a computer scientist. One memorable project I tackled was developing a comprehensive software system to analyze and visualize complex data. The challenge was to create an intuitive interface that allowed users to seamlessly navigate vast datasets and extract meaningful insights. Leveraging my expertise in data mining and machine learning, I designed a solution that utilized advanced algorithms to uncover hidden patterns and correlations within the data. The interactive dashboard I developed enabled users to explore data from multiple perspectives, generating real-time visualizations that made complex information easily comprehensible. The successful implementation of this system at a major financial institution resulted in improved decision-making processes and significant cost savings. It was a rewarding experience to witness the impact of my work in driving tangible business outcomes. Outside of my professional endeavors, I enjoy spending time with my family at our home in 517 Glenpark Drive, indulging in culinary adventures, and exploring the outdoors through hiking and camping. You can reach me via email at mary.dos santos@outlook.edu if you'd like to connect.\n",
       "573                                                                                                                                                                                                                                                                                                                                                                                In my role as a data scientist, I encounter numerous challenges that require analytical thinking and technical expertise. One particular case that stands out is when I was tasked with analyzing a large dataset of customer feedback to identify key pain points and areas for improvement in our company's services. Using advanced statistical techniques, natural language processing, and machine learning algorithms, I was able to uncover valuable insights hidden within the vast amount of unstructured data. My findings revealed patterns and correlations that led to the identification of specific aspects of our services that needed attention. This analysis enabled our team to make data-driven decisions to improve customer satisfaction and enhance overall service quality. As I delved deeper into the analysis, I stumbled upon an intriguing anomaly within the dataset. A particular product consistently received negative feedback, but the reasons for dissatisfaction were unclear. To unravel this mystery, I employed a combination of qualitative and quantitative methods. I conducted in-depth interviews with customers who had expressed dissatisfaction to gather their firsthand accounts of their experiences. Additionally, I analyzed usage patterns, technical logs, and support tickets related to the product to identify potential root causes of the issues. Through this comprehensive approach, I was able to pinpoint a specific design flaw that was causing the negative feedback. This discovery empowered our engineering team to rectify the issue promptly, resulting in a significant improvement in customer satisfaction for that particular product. My analytical journey as a data scientist is not confined to a single case study. I am constantly engaged in solving complex business problems and uncovering hidden insights from data. As I continue to explore the realm of data, I strive to leverage my expertise to drive innovation and make a positive impact on the organizations I serve. If you wish to reach me, my contact details are as follows: - Name: Thomas Martinez - Email: thomas_martinez@gmail.com - Address: 3115 North Lake Boulevard\n",
       "44    In a project that was particularly intriguing to me, I was tasked with developing a machine learning model to predict customer churn for a telecommunications company. As a seasoned data scientist with 12 years of experience in the field, I was excited to delve into this challenge. To begin, I gathered a vast dataset encompassing various customer-related data points, including demographics, usage patterns, and billing information. With the data securely stored, I embarked on the process of data exploration and preprocessing. I utilized various statistical techniques and visualization tools to identify patterns, trends, and outliers within the dataset. This initial analysis enabled me to gain valuable insights into customer behavior and helped me identify potential predictors of churn. Next, I partitioned the data into training and testing sets to ensure the robustness of the model. I then proceeded to select and tune a suitable machine learning algorithm for the task at hand. Several models were evaluated, including logistic regression, decision trees, and random forests. Hyperparameter optimization was performed to determine the optimal settings for each algorithm. The results were promising. The model achieved a high level of accuracy in predicting customer churn. However, I was not content with merely developing a model; I wanted to understand the underlying factors driving churn. To this end, I employed feature importance analysis to identify the most influential features in the model's predictions. This analysis revealed that factors such as customer tenure, usage patterns, and satisfaction with customer service were significant contributors to churn. With these insights, I collaborated with the marketing and customer service teams to develop targeted interventions aimed at reducing churn. These interventions included personalized offers, improved customer support, and tailored loyalty programs. The implemented strategies proved to be effective, resulting in a significant decrease in customer churn and an increase in customer satisfaction. I am proud of the positive impact this project has had on the telecommunications company. It has enabled them to retain valuable customers, optimize their marketing campaigns, and improve their overall customer experience. If you would like to learn more about my work, feel free to visit my webpage at https://rajeshweber.edu or connect with me on Twitter @rweber. You can also reach me at my address: 78511 Rhodes Parks Suite 200.\n",
       "3177                                                                                                                                                                                                                                                                                                                                                                                                                                                                                                                                                                                                                                                                                                                                                                                                                                                                                                                                                                                                                                                                                                                                                                                                                                                                    My name is Sushila Roche and I work as a computer scientist at XYZ Company. My job is to find solutions for the company's IT needs and improve the efficiency of their systems. One of the challenges I recently solved was the issue of data integration between our company's different software applications. The company had been using multiple applications for various tasks, but the data was not integrated between them. This led to inconsistencies and errors in the data, making it difficult for the company to make informed decisions. I conducted a thorough analysis of the existing systems and identified the challenges in integrating them. I then researched and evaluated various data integration tools and technologies that could help me achieve the desired results. I implemented a data integration solution that utilized a middleware platform to connect the different applications and enable seamless data transfer between them. I also developed a comprehensive data governance policy to ensure the accuracy, consistency, and security of the integrated data. This successful integration resulted in improved data quality, better decision-making, and increased operational efficiency within the company. My contact details are: Sushila Roche, 80 Homestead Street, sushila_roche6411@aol.com.\n",
       "271                                                                                                                                                                                                                                                                                                                                                                                                                                                                                                                                                                                                                                                                                                                                                                                                                                                                                                                                                                                                                                                                                                                                                                                                                                                                                                                                                                                                                                                                                                                                                                 Hi, I'm Boris Anderson, a data scientist living at 10406 Sunlight Lane. I'm writing to share an interesting problem I solved at work. We were working on a project to improve the efficiency of our customer service department. We had a lot of data on customer interactions, but it was challenging to identify patterns and trends that could help us make improvements. I used a combination of machine learning and statistical analysis to identify key factors that impacted customer satisfaction. I also developed a predictive model that could help us identify customers who were likely to have a negative experience. This allowed us to prioritize these customers and provide them with additional support. The result was a significant improvement in customer satisfaction and a reduction in the number of customer complaints. This led to a more positive customer experience and increased revenue for the company. If you have any questions about my work, please feel free to contact me at boris.anderson@outlook.com.\n",
       "3957                                                                                                                                                                                                                                                                                                                                                                                                                                                                                                                                                                                                                                                                                                                                                                                                                                                                                                                                                                                                       Hello, I'm Lucy Weiss. I have worked as a biologist for the last nine years. In my most recent position at the National Institute of Health, I led a project investigating the effects of climate change on local ecosystems. I began by assembling a team of scientists with expertise in ecology, meteorology, and GIS mapping. We then collected data on local plant and animal populations, as well as climate patterns, over a period of several years. One of the challenges we faced was the sheer volume of data we collected. To address this, we developed a database system that allowed us to store and organize the data in a way that made it easy to analyze. We also used statistical software to identify trends and patterns in the data. Our analysis revealed that climate change was having a significant impact on local ecosystems. We found that rising temperatures were leading to changes in plant and animal distributions, as well as increased frequency and severity of extreme weather events. We presented our findings at a scientific conference, and they were published in a peer-reviewed journal. Our work has helped to raise awareness of the impacts of climate change on local ecosystems, and it has informed policy decisions at the local and national levels. In addition to my work as a biologist, I enjoy weaving as a hobby. I also enjoy spending time with my family and friends. If you would like to get in touch with me, you can reach me by phone at 0178 774 3597, by email at lucyweiss1295@hotmail.gov, or by mail at 19404 North 77th Avenue."
      ]
     },
     "execution_count": 11,
     "metadata": {},
     "output_type": "execute_result"
    }
   ],
   "source": [
    "tf_idf(df['text'],'a data scientist with alot of experience')"
   ]
  }
 ],
 "metadata": {
  "kernelspec": {
   "display_name": "Python 3 (ipykernel)",
   "language": "python",
   "name": "python3"
  },
  "language_info": {
   "codemirror_mode": {
    "name": "ipython",
    "version": 3
   },
   "file_extension": ".py",
   "mimetype": "text/x-python",
   "name": "python",
   "nbconvert_exporter": "python",
   "pygments_lexer": "ipython3",
   "version": "3.11.5"
  }
 },
 "nbformat": 4,
 "nbformat_minor": 5
}
